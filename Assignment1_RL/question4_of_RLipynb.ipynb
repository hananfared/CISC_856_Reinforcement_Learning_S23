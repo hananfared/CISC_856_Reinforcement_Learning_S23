{
  "nbformat": 4,
  "nbformat_minor": 0,
  "metadata": {
    "colab": {
      "provenance": []
    },
    "kernelspec": {
      "name": "python3",
      "display_name": "Python 3"
    }
  },
  "cells": [
    {
      "cell_type": "markdown",
      "metadata": {
        "id": "b602d283"
      },
      "source": [
        "# Name: Hanan Fared Mohamed Omara , ID =  20398559"
      ]
    },
    {
      "cell_type": "markdown",
      "metadata": {
        "id": "myRaAcABGHFC"
      },
      "source": [
        "# The Answer of Question 4"
      ]
    },
    {
      "cell_type": "markdown",
      "source": [
        "- I have take some structure from search on internet.\n"
      ],
      "metadata": {
        "id": "0bHGW49x3cgN"
      }
    },
    {
      "cell_type": "code",
      "metadata": {
        "id": "SFh0zR4Bob25",
        "colab": {
          "base_uri": "https://localhost:8080/"
        },
        "outputId": "21abfec0-4656-4aa8-a5de-e1f207edf874"
      },
      "source": [
        "import numpy as np\n",
        "\n",
        "grid = np.zeros((5,5))\n",
        "grid"
      ],
      "execution_count": 1,
      "outputs": [
        {
          "output_type": "execute_result",
          "data": {
            "text/plain": [
              "array([[0., 0., 0., 0., 0.],\n",
              "       [0., 0., 0., 0., 0.],\n",
              "       [0., 0., 0., 0., 0.],\n",
              "       [0., 0., 0., 0., 0.],\n",
              "       [0., 0., 0., 0., 0.]])"
            ]
          },
          "metadata": {},
          "execution_count": 1
        }
      ]
    },
    {
      "cell_type": "code",
      "metadata": {
        "colab": {
          "base_uri": "https://localhost:8080/"
        },
        "outputId": "9affda01-ee71-439d-a1e8-5bc7f22bedd7",
        "id": "QiQ53Oq4ZMFk"
      },
      "source": [
        "Y = 0.75  #discount value\n",
        "for num in range(10): #number of times we will go through the whole grid\n",
        "  for i in range(5):      #all the rows\n",
        "    for j in range(5):    #all the columns\n",
        "      \n",
        "      up_grid = grid[i-1][j] if i > 0 else 0   #if going up takes us out of the grid then its value be 0\n",
        "      down_grid = grid[i+1][j] if i < 4 else 0  #if going down takes us out of the grid then its value be 0\n",
        "      left_grid = grid[i][j-1] if j > 0 else 0  #if going left takes us out of the grid then its value be 0\n",
        "      right_grid = grid[i][j+1] if j < 4 else 0  #if going right takes us out of the grid then its value be 0\n",
        "\n",
        "      all_dirs = [up_grid, down_grid, left_grid, right_grid]     \n",
        "\n",
        "      value=0  \n",
        "      if i==0 and j==1: # the position of A\n",
        "        value = 10 + Y*grid[4][1]\n",
        "      elif i==0 and j==3: # the position of B\n",
        "        value = 5 + Y*grid[2][3]\n",
        "      else:\n",
        "        for direc in all_dirs:\n",
        "          if direc != 0: \n",
        "            value += .25 * (0 + Y*direc)  #if we don't go out of the grid\n",
        "          else:\n",
        "            value += .25 * (-1 + Y*grid[i][j]) #if we go out of the grid\n",
        "        \n",
        "      grid[i][j] = value   \n",
        "np.round(grid, 1)\n"
      ],
      "execution_count": 5,
      "outputs": [
        {
          "output_type": "execute_result",
          "data": {
            "text/plain": [
              "array([[ 2.2,  9.4,  3.3,  5.1,  0.7],\n",
              "       [ 0.7,  2.2,  1.3,  1.2,  0. ],\n",
              "       [-0.2,  0.4,  0.3,  0.1, -0.4],\n",
              "       [-0.7, -0.3, -0.2, -0.3, -0.8],\n",
              "       [-1.3, -0.8, -0.7, -0.8, -1.3]])"
            ]
          },
          "metadata": {},
          "execution_count": 5
        }
      ]
    },
    {
      "cell_type": "code",
      "metadata": {
        "colab": {
          "base_uri": "https://localhost:8080/"
        },
        "outputId": "800c198d-6640-4486-b235-e966be5b7b58",
        "id": "5gQQsiSKZYYk"
      },
      "source": [
        "Y = 0.85  #discount value\n",
        "for num in range(10): #number of times we will go through the whole grid\n",
        "  for i in range(5):      #all the rows\n",
        "    for j in range(5):    #all the columns\n",
        "      \n",
        "      up_grid = grid[i-1][j] if i > 0 else 0   #if going up takes us out of the grid then its value be 0\n",
        "      down_grid = grid[i+1][j] if i < 4 else 0  #if going down takes us out of the grid then its value be 0\n",
        "      left_grid = grid[i][j-1] if j > 0 else 0  #if going left takes us out of the grid then its value be 0\n",
        "      right_grid = grid[i][j+1] if j < 4 else 0  #if going right takes us out of the grid then its value be 0\n",
        "\n",
        "      all_dirs = [up_grid, down_grid, left_grid, right_grid]     \n",
        "\n",
        "      value=0  \n",
        "      if i==0 and j==1: # the position of A\n",
        "        value = 10 + Y*grid[4][1]\n",
        "      elif i==0 and j==3: # the position of B\n",
        "        value = 5 + Y*grid[2][3]\n",
        "      else:\n",
        "        for direc in all_dirs:\n",
        "          if direc != 0: \n",
        "            value += .25 * (0 + Y*direc)  #if we don't go out of the grid\n",
        "          else:\n",
        "            value += .25 * (-1 + Y*grid[i][j]) #if we go out of the grid\n",
        "        \n",
        "      grid[i][j] = value   \n",
        "np.round(grid, 1)\n"
      ],
      "execution_count": 6,
      "outputs": [
        {
          "output_type": "execute_result",
          "data": {
            "text/plain": [
              "array([[ 2.9,  9.1,  4.1,  5.2,  1.2],\n",
              "       [ 1.2,  2.7,  1.9,  1.7,  0.3],\n",
              "       [-0.1,  0.6,  0.5,  0.3, -0.4],\n",
              "       [-0.9, -0.3, -0.3, -0.5, -1. ],\n",
              "       [-1.6, -1.1, -1. , -1.2, -1.7]])"
            ]
          },
          "metadata": {},
          "execution_count": 6
        }
      ]
    },
    {
      "cell_type": "code",
      "metadata": {
        "id": "6T1uH2KYHBTY",
        "colab": {
          "base_uri": "https://localhost:8080/"
        },
        "outputId": "49211f12-c79f-4d72-f651-4bf2c0a6a6e9"
      },
      "source": [
        "Y = .9  #discount value\n",
        "for num in range(10): #number of times we will go through the whole grid\n",
        "  for i in range(5):      #all the rows\n",
        "    for j in range(5):    #all the columns\n",
        "      \n",
        "      up_grid = grid[i-1][j] if i > 0 else 0   #if going up takes us out of the grid then its value be 0\n",
        "      down_grid = grid[i+1][j] if i < 4 else 0  #if going down takes us out of the grid then its value be 0\n",
        "      left_grid = grid[i][j-1] if j > 0 else 0  #if going left takes us out of the grid then its value be 0\n",
        "      right_grid = grid[i][j+1] if j < 4 else 0  #if going right takes us out of the grid then its value be 0\n",
        "\n",
        "      all_dirs = [up_grid, down_grid, left_grid, right_grid]     \n",
        "\n",
        "      value=0  \n",
        "      if i==0 and j==1: # the position of A\n",
        "        value = 10 + Y*grid[4][1]\n",
        "      elif i==0 and j==3: # the position of B\n",
        "        value = 5 + Y*grid[2][3]\n",
        "      else:\n",
        "        for direc in all_dirs:\n",
        "          if direc != 0: \n",
        "            value += .25 * (0 + Y*direc)  #if we don't go out of the grid\n",
        "          else:\n",
        "            value += .25 * (-1 + Y*grid[i][j]) #if we go out of the grid\n",
        "        \n",
        "      grid[i][j] = value   \n",
        "np.round(grid, 1)\n"
      ],
      "execution_count": 19,
      "outputs": [
        {
          "output_type": "execute_result",
          "data": {
            "text/plain": [
              "array([[ 3.3,  8.8,  4.4,  5.3,  1.5],\n",
              "       [ 1.5,  3. ,  2.3,  1.9,  0.5],\n",
              "       [ 0.1,  0.7,  0.7,  0.4, -0.4],\n",
              "       [-1. , -0.4, -0.4, -0.6, -1.2],\n",
              "       [-1.9, -1.3, -1.2, -1.4, -2. ]])"
            ]
          },
          "metadata": {},
          "execution_count": 19
        }
      ]
    },
    {
      "cell_type": "code",
      "source": [],
      "metadata": {
        "id": "IDUnX3OLzrV0"
      },
      "execution_count": null,
      "outputs": []
    }
  ]
}